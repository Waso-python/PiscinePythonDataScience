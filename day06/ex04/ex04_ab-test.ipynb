{
 "cells": [
  {
   "cell_type": "code",
   "execution_count": 1,
   "metadata": {},
   "outputs": [],
   "source": [
    "import pandas as pd\n",
    "import sqlite3"
   ]
  },
  {
   "cell_type": "code",
   "execution_count": 5,
   "metadata": {},
   "outputs": [],
   "source": [
    "con = sqlite3.connect('../data/checking-logs.sqlite')"
   ]
  },
  {
   "cell_type": "code",
   "execution_count": 6,
   "metadata": {},
   "outputs": [
    {
     "data": {
      "text/html": [
       "<div>\n",
       "<style scoped>\n",
       "    .dataframe tbody tr th:only-of-type {\n",
       "        vertical-align: middle;\n",
       "    }\n",
       "\n",
       "    .dataframe tbody tr th {\n",
       "        vertical-align: top;\n",
       "    }\n",
       "\n",
       "    .dataframe thead th {\n",
       "        text-align: right;\n",
       "    }\n",
       "</style>\n",
       "<table border=\"1\" class=\"dataframe\">\n",
       "  <thead>\n",
       "    <tr style=\"text-align: right;\">\n",
       "      <th></th>\n",
       "      <th>time</th>\n",
       "      <th>avg_diff</th>\n",
       "    </tr>\n",
       "  </thead>\n",
       "  <tbody>\n",
       "    <tr>\n",
       "      <th>0</th>\n",
       "      <td>after</td>\n",
       "      <td>-104.6000</td>\n",
       "    </tr>\n",
       "    <tr>\n",
       "      <th>1</th>\n",
       "      <td>before</td>\n",
       "      <td>-60.5625</td>\n",
       "    </tr>\n",
       "  </tbody>\n",
       "</table>\n",
       "</div>"
      ],
      "text/plain": [
       "     time  avg_diff\n",
       "0   after -104.6000\n",
       "1  before  -60.5625"
      ]
     },
     "execution_count": 6,
     "metadata": {},
     "output_type": "execute_result"
    }
   ],
   "source": [
    "query = '''\n",
    "--count average\n",
    "SELECT case when test.first_commit_ts < test.first_view_ts\n",
    "        THEN 'before' else 'after'\n",
    "        end as time,\n",
    "        AVG(CAST((julianday(test.first_commit_ts) -\n",
    "      \tjulianday(datetime(deadlines.deadlines, 'unixepoch')))\n",
    "     \t* 24 AS integer)) AS avg_diff\n",
    "FROM test\n",
    "JOIN deadlines ON test.labname=deadlines.labs\n",
    "WHERE labname<>'project1'\n",
    "--users with after AND before values\n",
    "AND uid in \n",
    "(SELECT uid from\n",
    " --before,after commit\n",
    "(SELECT test.uid,\n",
    "        case when test.first_commit_ts < test.first_view_ts\n",
    "        THEN 'before' else 'after'\n",
    "        end as time\n",
    "FROM test\n",
    "JOIN deadlines ON test.labname=deadlines.labs\n",
    "WHERE labname<>'project1')\n",
    "GROUP by uid\n",
    "HAVING COUNT(DISTINCT time)=2)\n",
    "GROUP by time\n",
    "'''\n",
    "test_results = pd.io.sql.read_sql(query, con)\n",
    "test_results"
   ]
  },
  {
   "cell_type": "code",
   "execution_count": 7,
   "metadata": {},
   "outputs": [
    {
     "data": {
      "text/html": [
       "<div>\n",
       "<style scoped>\n",
       "    .dataframe tbody tr th:only-of-type {\n",
       "        vertical-align: middle;\n",
       "    }\n",
       "\n",
       "    .dataframe tbody tr th {\n",
       "        vertical-align: top;\n",
       "    }\n",
       "\n",
       "    .dataframe thead th {\n",
       "        text-align: right;\n",
       "    }\n",
       "</style>\n",
       "<table border=\"1\" class=\"dataframe\">\n",
       "  <thead>\n",
       "    <tr style=\"text-align: right;\">\n",
       "      <th></th>\n",
       "      <th>time</th>\n",
       "      <th>avg_diff</th>\n",
       "    </tr>\n",
       "  </thead>\n",
       "  <tbody>\n",
       "    <tr>\n",
       "      <th>0</th>\n",
       "      <td>after</td>\n",
       "      <td>-117.636364</td>\n",
       "    </tr>\n",
       "    <tr>\n",
       "      <th>1</th>\n",
       "      <td>before</td>\n",
       "      <td>-99.464286</td>\n",
       "    </tr>\n",
       "  </tbody>\n",
       "</table>\n",
       "</div>"
      ],
      "text/plain": [
       "     time    avg_diff\n",
       "0   after -117.636364\n",
       "1  before  -99.464286"
      ]
     },
     "execution_count": 7,
     "metadata": {},
     "output_type": "execute_result"
    }
   ],
   "source": [
    "query = '''\n",
    "--count average\n",
    "SELECT case when control.first_commit_ts < control.first_view_ts\n",
    "        THEN 'before' else 'after'\n",
    "        end as time,\n",
    "        AVG(CAST((julianday(control.first_commit_ts) -\n",
    "      \tjulianday(datetime(deadlines.deadlines, 'unixepoch')))\n",
    "     \t* 24 AS integer)) AS avg_diff\n",
    "FROM control\n",
    "JOIN deadlines ON control.labname=deadlines.labs\n",
    "WHERE labname<>'project1'\n",
    "--users with after AND before values\n",
    "AND uid in \n",
    "(SELECT uid from\n",
    " --before,after commit\n",
    "(SELECT control.uid,\n",
    "        case when control.first_commit_ts < control.first_view_ts\n",
    "        THEN 'before' else 'after'\n",
    "        end as time\n",
    "FROM control\n",
    "JOIN deadlines ON control.labname=deadlines.labs\n",
    "WHERE labname<>'project1')\n",
    "GROUP by uid\n",
    "HAVING COUNT(DISTINCT time)=2)\n",
    "GROUP by time\n",
    "'''\n",
    "control_results = pd.io.sql.read_sql(query, con)\n",
    "control_results"
   ]
  }
 ],
 "metadata": {
  "interpreter": {
   "hash": "8f82a01f50ea3218698be8d6f984d55792d0bb139284112d7748bf5f22940fa6"
  },
  "kernelspec": {
   "display_name": "Python 3.10.2 ('venv': venv)",
   "language": "python",
   "name": "python3"
  },
  "language_info": {
   "codemirror_mode": {
    "name": "ipython",
    "version": 3
   },
   "file_extension": ".py",
   "mimetype": "text/x-python",
   "name": "python",
   "nbconvert_exporter": "python",
   "pygments_lexer": "ipython3",
   "version": "3.10.2"
  },
  "orig_nbformat": 4
 },
 "nbformat": 4,
 "nbformat_minor": 2
}
